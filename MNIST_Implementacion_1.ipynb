{
 "cells": [
  {
   "cell_type": "markdown",
   "metadata": {
    "id": "AhOCfIV9c0fA"
   },
   "source": [
    "# Introducción"
   ]
  },
  {
   "cell_type": "markdown",
   "metadata": {
    "id": "YGQCJqpdc5yB"
   },
   "source": [
    "En esta libreta usaremos la librería de Keras para construír modelos para problemas de clasificación. Para este proyecto, usaremos el conjunto de datos MNIST, el cual es un dataset bastante usado y contiene varias imágenes con números escritos a mano.\n",
    "\n",
    "El **MNIST Dataset**, siglas de Modified National Institute of Standards and Technology, es un conjunto de datos grande con dígitos escritos a mano usado comúnmente para entrenar sistemas de entrenamiento de procesamiento de imágenes. Este conjunto de datos es ampliamente usado para el entrenamiento y testeo en el campo de machine learning y deep learning.\n",
    "\n",
    "El MNIST Dataset contiene 60,000 imagenes de entrenamiento y 10,000 imágenes de dígitos escritos a mano por estudiantes de preparatoria y empleados del United States Census Bureau.\n"
   ]
  },
  {
   "cell_type": "markdown",
   "metadata": {
    "id": "VfHewJtGePu6"
   },
   "source": [
    "# Modelo de Clasificación FCN"
   ]
  },
  {
   "cell_type": "markdown",
   "metadata": {
    "id": "I_KHMCP9eYn9"
   },
   "source": [
    "## Importando librería Keras y sus paquetes"
   ]
  },
  {
   "cell_type": "markdown",
   "metadata": {
    "id": "goTZ-9kGefsV"
   },
   "source": [
    "Empecemos importando Keras y algunos de sus módulos."
   ]
  },
  {
   "cell_type": "code",
   "execution_count": 1,
   "metadata": {
    "id": "x6p1Ku_Jczgx"
   },
   "outputs": [
    {
     "name": "stderr",
     "output_type": "stream",
     "text": [
      "2023-06-07 17:25:57.409694: I tensorflow/core/platform/cpu_feature_guard.cc:193] This TensorFlow binary is optimized with oneAPI Deep Neural Network Library (oneDNN) to use the following CPU instructions in performance-critical operations:  SSE4.1 SSE4.2 AVX AVX2 FMA\n",
      "To enable them in other operations, rebuild TensorFlow with the appropriate compiler flags.\n"
     ]
    }
   ],
   "source": [
    "import keras\n",
    "\n",
    "from keras.models import Sequential\n",
    "from keras.layers import Dense\n",
    "from keras.utils import to_categorical"
   ]
  },
  {
   "cell_type": "markdown",
   "metadata": {
    "id": "08KNqdnfez9T"
   },
   "source": [
    "Como estamos tratando con imágenes, importamos también Matplotlib con el fin de poder verlas."
   ]
  },
  {
   "cell_type": "code",
   "execution_count": 2,
   "metadata": {
    "id": "NVBM_saEfDev"
   },
   "outputs": [],
   "source": [
    "import matplotlib.pyplot as plt"
   ]
  },
  {
   "cell_type": "markdown",
   "metadata": {
    "id": "1Lzh2KOefBT5"
   },
   "source": [
    "El conjunto de datos del MNIST, al ser ampliamente usado, como se vio anteriormente, forma parte del API de la librería de Keras. \n",
    "\n",
    "A continuación, importaremos, el MNIST dataset de la librería de Keras. Convenientemente, el dataset viene dividido en un conjunto de datos de entrenamiento y de pruebas."
   ]
  },
  {
   "cell_type": "code",
   "execution_count": 3,
   "metadata": {
    "id": "e7VdrZyDfmEX"
   },
   "outputs": [
    {
     "name": "stdout",
     "output_type": "stream",
     "text": [
      "Downloading data from https://storage.googleapis.com/tensorflow/tf-keras-datasets/mnist.npz\n",
      "11490434/11490434 [==============================] - 1s 0us/step\n"
     ]
    }
   ],
   "source": [
    "# importar el dataset\n",
    "from keras.datasets import mnist\n",
    "\n",
    "# leer el dataset\n",
    "(X_train, y_train), (X_test, y_test) = mnist.load_data()"
   ]
  },
  {
   "cell_type": "markdown",
   "metadata": {
    "id": "1tC0S7yQg-E5"
   },
   "source": [
    "El valor de `X` son las imágenes como tal, mientras que las `y` son las etiquetas asociadas a cada imagen."
   ]
  },
  {
   "cell_type": "markdown",
   "metadata": {
    "id": "Hx8AAD5Wf8gG"
   },
   "source": [
    "Podemos ver el número de imágenes para cada conjunto. De acuerdo a la documentación, deberíamos de tener 60,000 imágenes en `X_train` y 10,000 imágenes en `X_test`"
   ]
  },
  {
   "cell_type": "code",
   "execution_count": 4,
   "metadata": {
    "colab": {
     "base_uri": "https://localhost:8080/"
    },
    "id": "PsmhFsOugO1c",
    "outputId": "952016b0-38ad-4978-bf0d-9d932ef16397"
   },
   "outputs": [
    {
     "name": "stdout",
     "output_type": "stream",
     "text": [
      "X_train.shape=(60000, 28, 28)\n",
      "X_test.shape=(10000, 28, 28)\n"
     ]
    }
   ],
   "source": [
    "print(f'{X_train.shape=}')\n",
    "print(f'{X_test.shape=}')"
   ]
  },
  {
   "cell_type": "markdown",
   "metadata": {
    "id": "dMrKvk-Wg18J"
   },
   "source": [
    "Como podemos apreciar, el primer número en la tupla es el número de imágenes, mientras que los otros dos números son el tamaño de la imagen en el dataset. Por lo tanto, cada imagen es de 28 x 28 pixeles.\n",
    "\n",
    "Podemos visualizarlo usando Matplotlib:"
   ]
  },
  {
   "cell_type": "code",
   "execution_count": 5,
   "metadata": {
    "colab": {
     "base_uri": "https://localhost:8080/",
     "height": 447
    },
    "id": "hZf6dk_ohqV_",
    "outputId": "93d2e040-e09d-4e9c-948e-5be86432919d"
   },
   "outputs": [
    {
     "data": {
      "text/plain": [
       "<matplotlib.image.AxesImage at 0x7fe6933c3cd0>"
      ]
     },
     "execution_count": 5,
     "metadata": {},
     "output_type": "execute_result"
    },
    {
     "data": {
      "image/png": "[encoded data removed]",
      "text/plain": [
       "<Figure size 640x480 with 1 Axes>"
      ]
     },
     "metadata": {},
     "output_type": "display_data"
    }
   ],
   "source": [
    "plt.imshow(X_train[-1], cmap='gray')"
   ]
  },
  {
   "cell_type": "markdown",
   "metadata": {
    "id": "InOiFWH6iGy-"
   },
   "source": [
    "Si intentamos \"ver\" la imagen imprimiendo sus valores, el resultado será un `numpy.ndarray` con valores que van de **0** (totalmente negro) a **255** (totalmente blanco)"
   ]
  },
  {
   "cell_type": "code",
   "execution_count": 27,
   "metadata": {
    "colab": {
     "base_uri": "https://localhost:8080/"
    },
    "id": "A70nPa0nh0cJ",
    "outputId": "aaa5bb83-9c47-45b9-ee06-bbf6f1fc3639"
   },
   "outputs": [
    {
     "data": {
      "text/plain": [
       "array([0.        , 0.        , 0.        , 0.        , 0.        ,\n",
       "       0.        , 0.        , 0.        , 0.        , 0.        ,\n",
       "       0.        , 0.        , 0.        , 0.        , 0.        ,\n",
       "       0.        , 0.        , 0.        , 0.        , 0.        ,\n",
       "       0.        , 0.        , 0.        , 0.        , 0.        ,\n",
       "       0.        , 0.        , 0.        , 0.        , 0.        ,\n",
       "       0.        , 0.        , 0.        , 0.        , 0.        ,\n",
       "       0.        , 0.        , 0.        , 0.        , 0.        ,\n",
       "       0.        , 0.        , 0.        , 0.        , 0.        ,\n",
       "       0.        , 0.        , 0.        , 0.        , 0.        ,\n",
       "       0.        , 0.        , 0.        , 0.        , 0.        ,\n",
       "       0.        , 0.        , 0.        , 0.        , 0.        ,\n",
       "       0.        , 0.        , 0.        , 0.        , 0.        ,\n",
       "       0.        , 0.        , 0.        , 0.        , 0.        ,\n",
       "       0.        , 0.        , 0.        , 0.        , 0.        ,\n",
       "       0.        , 0.        , 0.        , 0.        , 0.        ,\n",
       "       0.        , 0.        , 0.        , 0.        , 0.        ,\n",
       "       0.        , 0.        , 0.        , 0.        , 0.        ,\n",
       "       0.        , 0.        , 0.        , 0.        , 0.        ,\n",
       "       0.        , 0.        , 0.        , 0.        , 0.        ,\n",
       "       0.        , 0.        , 0.        , 0.        , 0.        ,\n",
       "       0.        , 0.        , 0.        , 0.        , 0.        ,\n",
       "       0.        , 0.        , 0.        , 0.        , 0.        ,\n",
       "       0.        , 0.        , 0.        , 0.        , 0.        ,\n",
       "       0.        , 0.        , 0.        , 0.        , 0.        ,\n",
       "       0.        , 0.        , 0.        , 0.        , 0.        ,\n",
       "       0.        , 0.        , 0.        , 0.        , 0.        ,\n",
       "       0.        , 0.        , 0.        , 0.        , 0.        ,\n",
       "       0.        , 0.        , 0.        , 0.        , 0.        ,\n",
       "       0.        , 0.        , 0.        , 0.        , 0.        ,\n",
       "       0.        , 0.        , 0.        , 0.        , 0.        ,\n",
       "       0.        , 0.        , 0.        , 0.        , 0.        ,\n",
       "       0.        , 0.        , 0.        , 0.        , 0.        ,\n",
       "       0.        , 0.        , 0.        , 0.        , 0.        ,\n",
       "       0.        , 0.        , 0.        , 0.        , 0.        ,\n",
       "       0.        , 0.        , 0.        , 0.        , 0.        ,\n",
       "       0.        , 0.        , 0.        , 0.        , 0.14901961,\n",
       "       0.18823529, 0.18823529, 0.08627451, 0.        , 0.        ,\n",
       "       0.        , 0.        , 0.        , 0.        , 0.        ,\n",
       "       0.        , 0.        , 0.        , 0.        , 0.        ,\n",
       "       0.        , 0.        , 0.        , 0.        , 0.        ,\n",
       "       0.        , 0.        , 0.        , 0.        , 0.24313725,\n",
       "       0.38039216, 0.77647059, 0.95294118, 0.99607843, 0.99607843,\n",
       "       0.83137255, 0.10588235, 0.        , 0.        , 0.        ,\n",
       "       0.        , 0.        , 0.        , 0.        , 0.        ,\n",
       "       0.        , 0.        , 0.        , 0.        , 0.        ,\n",
       "       0.        , 0.        , 0.        , 0.        , 0.        ,\n",
       "       0.        , 0.2627451 , 0.6745098 , 0.99607843, 0.99607843,\n",
       "       0.88235294, 0.85490196, 0.85490196, 0.92941176, 0.97254902,\n",
       "       0.15686275, 0.        , 0.08235294, 0.64313725, 0.73333333,\n",
       "       0.        , 0.        , 0.        , 0.        , 0.        ,\n",
       "       0.        , 0.        , 0.        , 0.        , 0.        ,\n",
       "       0.        , 0.        , 0.        , 0.34901961, 0.85882353,\n",
       "       0.99607843, 0.38039216, 0.2627451 , 0.05490196, 0.        ,\n",
       "       0.        , 0.36078431, 0.90588235, 0.47843137, 0.09019608,\n",
       "       0.79607843, 0.9254902 , 0.23137255, 0.        , 0.        ,\n",
       "       0.        , 0.        , 0.        , 0.        , 0.        ,\n",
       "       0.        , 0.        , 0.        , 0.        , 0.        ,\n",
       "       0.09803922, 0.85098039, 0.94901961, 0.36078431, 0.01568627,\n",
       "       0.        , 0.        , 0.        , 0.        , 0.01568627,\n",
       "       0.57647059, 0.99215686, 0.94117647, 0.90980392, 0.36078431,\n",
       "       0.        , 0.        , 0.        , 0.        , 0.        ,\n",
       "       0.        , 0.        , 0.        , 0.        , 0.        ,\n",
       "       0.        , 0.        , 0.        , 0.39607843, 1.        ,\n",
       "       0.36078431, 0.        , 0.        , 0.        , 0.        ,\n",
       "       0.        , 0.        , 0.41176471, 0.99607843, 0.99607843,\n",
       "       0.69411765, 0.04313725, 0.        , 0.        , 0.        ,\n",
       "       0.        , 0.        , 0.        , 0.        , 0.        ,\n",
       "       0.        , 0.        , 0.        , 0.        , 0.        ,\n",
       "       0.        , 0.65490196, 0.95686275, 0.16078431, 0.        ,\n",
       "       0.        , 0.        , 0.02745098, 0.29803922, 0.78039216,\n",
       "       0.93333333, 0.9372549 , 0.36862745, 0.03921569, 0.        ,\n",
       "       0.        , 0.        , 0.        , 0.        , 0.        ,\n",
       "       0.        , 0.        , 0.        , 0.        , 0.        ,\n",
       "       0.        , 0.        , 0.        , 0.        , 0.75294118,\n",
       "       0.4745098 , 0.        , 0.        , 0.00784314, 0.24705882,\n",
       "       0.70588235, 0.99607843, 0.91372549, 0.49411765, 0.        ,\n",
       "       0.        , 0.        , 0.        , 0.        , 0.        ,\n",
       "       0.        , 0.        , 0.        , 0.        , 0.        ,\n",
       "       0.        , 0.        , 0.        , 0.        , 0.        ,\n",
       "       0.        , 0.        , 0.74509804, 0.76862745, 0.05490196,\n",
       "       0.00784314, 0.38039216, 0.99607843, 0.98823529, 0.57254902,\n",
       "       0.20392157, 0.        , 0.        , 0.        , 0.        ,\n",
       "       0.        , 0.        , 0.        , 0.        , 0.        ,\n",
       "       0.        , 0.        , 0.        , 0.        , 0.        ,\n",
       "       0.        , 0.        , 0.        , 0.        , 0.        ,\n",
       "       0.50980392, 0.88235294, 0.27843137, 0.70588235, 0.90980392,\n",
       "       0.70980392, 0.23529412, 0.        , 0.        , 0.        ,\n",
       "       0.        , 0.        , 0.        , 0.        , 0.        ,\n",
       "       0.        , 0.        , 0.        , 0.        , 0.        ,\n",
       "       0.        , 0.        , 0.        , 0.        , 0.        ,\n",
       "       0.        , 0.        , 0.        , 0.50980392, 0.99607843,\n",
       "       0.99607843, 0.90196078, 0.18039216, 0.        , 0.        ,\n",
       "       0.        , 0.        , 0.        , 0.        , 0.        ,\n",
       "       0.        , 0.        , 0.        , 0.        , 0.        ,\n",
       "       0.        , 0.        , 0.        , 0.        , 0.        ,\n",
       "       0.        , 0.        , 0.        , 0.        , 0.02352941,\n",
       "       0.30196078, 0.95686275, 0.99607843, 0.63529412, 0.01568627,\n",
       "       0.        , 0.        , 0.        , 0.        , 0.        ,\n",
       "       0.        , 0.        , 0.        , 0.        , 0.        ,\n",
       "       0.        , 0.        , 0.        , 0.        , 0.        ,\n",
       "       0.        , 0.        , 0.        , 0.        , 0.        ,\n",
       "       0.        , 0.        , 0.43137255, 0.99607843, 0.85490196,\n",
       "       0.99607843, 0.45490196, 0.        , 0.        , 0.        ,\n",
       "       0.        , 0.        , 0.        , 0.        , 0.        ,\n",
       "       0.        , 0.        , 0.        , 0.        , 0.        ,\n",
       "       0.        , 0.        , 0.        , 0.        , 0.        ,\n",
       "       0.        , 0.        , 0.        , 0.        , 0.51372549,\n",
       "       0.99607843, 0.60392157, 0.10980392, 0.83529412, 0.3372549 ,\n",
       "       0.        , 0.        , 0.        , 0.        , 0.        ,\n",
       "       0.        , 0.        , 0.        , 0.        , 0.        ,\n",
       "       0.        , 0.        , 0.        , 0.        , 0.        ,\n",
       "       0.        , 0.        , 0.        , 0.        , 0.        ,\n",
       "       0.        , 0.25882353, 0.81960784, 0.6       , 0.0745098 ,\n",
       "       0.0745098 , 0.91372549, 0.23529412, 0.        , 0.        ,\n",
       "       0.        , 0.        , 0.        , 0.        , 0.        ,\n",
       "       0.        , 0.        , 0.        , 0.        , 0.        ,\n",
       "       0.        , 0.        , 0.        , 0.        , 0.        ,\n",
       "       0.        , 0.        , 0.        , 0.        , 0.55686275,\n",
       "       0.99607843, 0.64705882, 0.        , 0.05490196, 0.84705882,\n",
       "       0.65490196, 0.        , 0.        , 0.        , 0.        ,\n",
       "       0.        , 0.        , 0.        , 0.        , 0.        ,\n",
       "       0.        , 0.        , 0.        , 0.        , 0.        ,\n",
       "       0.        , 0.        , 0.        , 0.        , 0.        ,\n",
       "       0.        , 0.        , 0.35294118, 0.99607843, 0.68627451,\n",
       "       0.        , 0.07058824, 0.89803922, 0.36078431, 0.        ,\n",
       "       0.        , 0.        , 0.        , 0.        , 0.        ,\n",
       "       0.        , 0.        , 0.        , 0.        , 0.        ,\n",
       "       0.        , 0.        , 0.        , 0.        , 0.        ,\n",
       "       0.        , 0.        , 0.        , 0.        , 0.        ,\n",
       "       0.10196078, 0.89803922, 0.97647059, 0.69019608, 0.87058824,\n",
       "       0.95686275, 0.17254902, 0.        , 0.        , 0.        ,\n",
       "       0.        , 0.        , 0.        , 0.        , 0.        ,\n",
       "       0.        , 0.        , 0.        , 0.        , 0.        ,\n",
       "       0.        , 0.        , 0.        , 0.        , 0.        ,\n",
       "       0.        , 0.        , 0.        , 0.        , 0.28627451,\n",
       "       0.75686275, 0.77254902, 0.5254902 , 0.        , 0.        ,\n",
       "       0.        , 0.        , 0.        , 0.        , 0.        ,\n",
       "       0.        , 0.        , 0.        , 0.        , 0.        ,\n",
       "       0.        , 0.        , 0.        , 0.        , 0.        ,\n",
       "       0.        , 0.        , 0.        , 0.        , 0.        ,\n",
       "       0.        , 0.        , 0.        , 0.        , 0.        ,\n",
       "       0.        , 0.        , 0.        , 0.        , 0.        ,\n",
       "       0.        , 0.        , 0.        , 0.        , 0.        ,\n",
       "       0.        , 0.        , 0.        , 0.        , 0.        ,\n",
       "       0.        , 0.        , 0.        , 0.        , 0.        ,\n",
       "       0.        , 0.        , 0.        , 0.        , 0.        ,\n",
       "       0.        , 0.        , 0.        , 0.        , 0.        ,\n",
       "       0.        , 0.        , 0.        , 0.        , 0.        ,\n",
       "       0.        , 0.        , 0.        , 0.        , 0.        ,\n",
       "       0.        , 0.        , 0.        , 0.        , 0.        ,\n",
       "       0.        , 0.        , 0.        , 0.        , 0.        ,\n",
       "       0.        , 0.        , 0.        , 0.        , 0.        ,\n",
       "       0.        , 0.        , 0.        , 0.        , 0.        ,\n",
       "       0.        , 0.        , 0.        , 0.        , 0.        ,\n",
       "       0.        , 0.        , 0.        , 0.        , 0.        ,\n",
       "       0.        , 0.        , 0.        , 0.        ])"
      ]
     },
     "execution_count": 27,
     "metadata": {},
     "output_type": "execute_result"
    }
   ],
   "source": [
    "X_train[-1]"
   ]
  },
  {
   "cell_type": "markdown",
   "metadata": {
    "id": "HbdFRGQhiuhG"
   },
   "source": [
    "Como primero vamos a trabajar con una red neuronal FCN (**Fully-Connected Network**), siendo una red neuronal \"convencional\", no podemos meter la imagen como entrada asi tal cual. Por lo tanto, tenemos que hacer un preprocesamiento de la imagen para *aplanar* las imágenes, convirtiéndolas en vectores uni-dimensionales de tamaño `1 x (28 x 28) = 1 x 784.`"
   ]
  },
  {
   "cell_type": "code",
   "execution_count": 7,
   "metadata": {
    "id": "zShZt90TkFKi"
   },
   "outputs": [],
   "source": [
    "# aplanando las imágenes en vectores uni-dimensionales\n",
    "\n",
    "num_pixeles = X_train.shape[1] * X_train.shape[2] # 28 x 28 <- encontrando el tamaño del vector 1D\n",
    "\n",
    "X_train = X_train.reshape(X_train.shape[0], num_pixeles) # aplanando conjunto de entrenamiento\n",
    "X_test = X_test.reshape(X_test.shape[0], num_pixeles) # aplanando conjunto de pruebas"
   ]
  },
  {
   "cell_type": "markdown",
   "metadata": {
    "id": "w8VOiPFUlqHm"
   },
   "source": [
    "Dado que los valores de los píxeles pueden oscilar entre 0 y 255, normalicemos los vectores para que estén entre 0 y 1."
   ]
  },
  {
   "cell_type": "code",
   "execution_count": 8,
   "metadata": {
    "id": "L0-ClHDRlOvp"
   },
   "outputs": [],
   "source": [
    "# normalicemos inputs de 0-255 a 0-1\n",
    "X_train = X_train / 255\n",
    "X_test = X_test / 255"
   ]
  },
  {
   "cell_type": "markdown",
   "metadata": {
    "id": "koV78BYXlquI"
   },
   "source": [
    "Antes de construir el modelo de red neurnal, recordemos que debemos de separar nuestra target variable en categorias. Por esta razón, usamos la función to_categorical importada de las utilidades de Keras."
   ]
  },
  {
   "cell_type": "code",
   "execution_count": 9,
   "metadata": {
    "id": "fwnuiPzdlrAA"
   },
   "outputs": [],
   "source": [
    "# hacemos un one-hot encoding para los outputs\n",
    "y_train = to_categorical(y_train)\n",
    "y_test = to_categorical(y_test)"
   ]
  },
  {
   "cell_type": "code",
   "execution_count": 10,
   "metadata": {
    "colab": {
     "base_uri": "https://localhost:8080/"
    },
    "id": "X-VNnEeko-Xm",
    "outputId": "e8c2c3c6-fd7d-44fe-a647-e272febcc9f1"
   },
   "outputs": [
    {
     "data": {
      "text/plain": [
       "array([0., 0., 0., 0., 0., 0., 0., 0., 1., 0.], dtype=float32)"
      ]
     },
     "execution_count": 10,
     "metadata": {},
     "output_type": "execute_result"
    }
   ],
   "source": [
    "y_train[-1]"
   ]
  },
  {
   "cell_type": "code",
   "execution_count": 11,
   "metadata": {
    "colab": {
     "base_uri": "https://localhost:8080/"
    },
    "id": "7MwJB62fphtJ",
    "outputId": "f52538d8-3642-486b-be2f-d64efc49dbb6"
   },
   "outputs": [
    {
     "name": "stdout",
     "output_type": "stream",
     "text": [
      "10\n"
     ]
    }
   ],
   "source": [
    "num_clases = y_test.shape[1]\n",
    "print(num_clases)"
   ]
  },
  {
   "cell_type": "markdown",
   "metadata": {
    "id": "Xk_XRE5jlZof"
   },
   "source": [
    "## Construyendo la Red Neuronal"
   ]
  },
  {
   "cell_type": "code",
   "execution_count": 12,
   "metadata": {
    "id": "liDk-hYSldyt"
   },
   "outputs": [],
   "source": [
    "# Definiendo un modelo de clasificacion\n",
    "def classification_model():\n",
    "    # creando el modelo\n",
    "    model = Sequential()\n",
    "    model.add(Dense(num_pixeles, activation='relu', input_shape=(num_pixeles,)))\n",
    "    model.add(Dense(100, activation='relu'))\n",
    "    model.add(Dense(num_clases, activation='softmax'))\n",
    "    \n",
    "    \n",
    "    # compilando el modelo\n",
    "    model.compile(optimizer='adam', loss='categorical_crossentropy', metrics=['accuracy'])\n",
    "    return model"
   ]
  },
  {
   "cell_type": "markdown",
   "metadata": {
    "id": "pWr4i9b5oFiG"
   },
   "source": [
    "## Entrenamiento y Pruebas de la Red Neuronal"
   ]
  },
  {
   "cell_type": "code",
   "execution_count": 13,
   "metadata": {
    "colab": {
     "base_uri": "https://localhost:8080/"
    },
    "id": "ZhCrGi76oF0-",
    "outputId": "7e2e21e1-d060-4fcb-d966-50bbd5770b84"
   },
   "outputs": [
    {
     "name": "stdout",
     "output_type": "stream",
     "text": [
      "Epoch 1/10\n"
     ]
    },
    {
     "name": "stderr",
     "output_type": "stream",
     "text": [
      "2023-06-07 17:27:03.899065: I tensorflow/core/platform/cpu_feature_guard.cc:193] This TensorFlow binary is optimized with oneAPI Deep Neural Network Library (oneDNN) to use the following CPU instructions in performance-critical operations:  SSE4.1 SSE4.2 AVX AVX2 FMA\n",
      "To enable them in other operations, rebuild TensorFlow with the appropriate compiler flags.\n"
     ]
    },
    {
     "name": "stdout",
     "output_type": "stream",
     "text": [
      "1875/1875 [==============================] - 6s 3ms/step - loss: 0.1858 - accuracy: 0.9445 - val_loss: 0.0980 - val_accuracy: 0.9686\n",
      "Epoch 2/10\n",
      "1875/1875 [==============================] - 7s 4ms/step - loss: 0.0781 - accuracy: 0.9760 - val_loss: 0.0757 - val_accuracy: 0.9769\n",
      "Epoch 3/10\n",
      "1875/1875 [==============================] - 9s 5ms/step - loss: 0.0533 - accuracy: 0.9829 - val_loss: 0.1087 - val_accuracy: 0.9691\n",
      "Epoch 4/10\n",
      "1875/1875 [==============================] - 9s 5ms/step - loss: 0.0403 - accuracy: 0.9874 - val_loss: 0.0685 - val_accuracy: 0.9811\n",
      "Epoch 5/10\n",
      "1875/1875 [==============================] - 11s 6ms/step - loss: 0.0323 - accuracy: 0.9896 - val_loss: 0.0672 - val_accuracy: 0.9818\n",
      "Epoch 6/10\n",
      "1875/1875 [==============================] - 12s 6ms/step - loss: 0.0258 - accuracy: 0.9918 - val_loss: 0.0757 - val_accuracy: 0.9802\n",
      "Epoch 7/10\n",
      "1875/1875 [==============================] - 13s 7ms/step - loss: 0.0222 - accuracy: 0.9924 - val_loss: 0.1039 - val_accuracy: 0.9777\n",
      "Epoch 8/10\n",
      "1875/1875 [==============================] - 13s 7ms/step - loss: 0.0185 - accuracy: 0.9944 - val_loss: 0.0767 - val_accuracy: 0.9838\n",
      "Epoch 9/10\n",
      "1875/1875 [==============================] - 13s 7ms/step - loss: 0.0180 - accuracy: 0.9940 - val_loss: 0.0880 - val_accuracy: 0.9805\n",
      "Epoch 10/10\n",
      "1875/1875 [==============================] - 13s 7ms/step - loss: 0.0166 - accuracy: 0.9948 - val_loss: 0.0904 - val_accuracy: 0.9802\n"
     ]
    }
   ],
   "source": [
    "# build the model\n",
    "model = classification_model()\n",
    "\n",
    "# fit the model\n",
    "model.fit(X_train, y_train, validation_data=(X_test, y_test), epochs=10, verbose=1)\n",
    "\n",
    "# evaluate the model\n",
    "scores = model.evaluate(X_test, y_test, verbose=0)"
   ]
  },
  {
   "cell_type": "markdown",
   "metadata": {
    "id": "Wj-GM9yjp4w2"
   },
   "source": [
    "Ahora imprimemos el accuracy (precisión) y el error."
   ]
  },
  {
   "cell_type": "code",
   "execution_count": 80,
   "metadata": {
    "colab": {
     "base_uri": "https://localhost:8080/"
    },
    "id": "zKASKOl2qHwZ",
    "outputId": "4147f983-c8c5-4ddd-9c87-e28f9a8f7f2e",
    "scrolled": true
   },
   "outputs": [
    {
     "name": "stdout",
     "output_type": "stream",
     "text": [
      "Accuracy: 0.9801999926567078% \n",
      " Error: 0.019800007343292236\n"
     ]
    }
   ],
   "source": [
    "print('Accuracy: {}% \\n Error: {}'.format(scores[1], 1 - scores[1]))        "
   ]
  },
  {
   "cell_type": "code",
   "execution_count": 150,
   "metadata": {},
   "outputs": [],
   "source": [
    "from PIL import Image\n",
    "import matplotlib.image as mpimg\n",
    "\n",
    "test_img_path = './img/testing/num_6-1.png'\n",
    "\n",
    "test_img = Image.open(test_img_path).convert('L')\n",
    "test_img.save('./img/testing/greyscale.png')\n",
    "\n",
    "test_img_path = './img/testing/greyscale.png'"
   ]
  },
  {
   "cell_type": "code",
   "execution_count": 151,
   "metadata": {},
   "outputs": [
    {
     "name": "stdout",
     "output_type": "stream",
     "text": [
      "./img/testing/greyscale.png\n"
     ]
    }
   ],
   "source": [
    "print(test_img_path)\n",
    "img = mpimg.imread(test_img_path,)"
   ]
  },
  {
   "cell_type": "code",
   "execution_count": 152,
   "metadata": {
    "scrolled": true
   },
   "outputs": [
    {
     "name": "stdout",
     "output_type": "stream",
     "text": [
      "1/1 [==============================] - 0s 16ms/step\n"
     ]
    },
    {
     "data": {
      "image/png": "[encoded data removed]",
      "text/plain": [
       "<Figure size 640x480 with 1 Axes>"
      ]
     },
     "metadata": {},
     "output_type": "display_data"
    }
   ],
   "source": [
    "plt.imshow(img,cmap='Greys')\n",
    "pred = model.predict(img.reshape(1,num_pixeles))"
   ]
  },
  {
   "cell_type": "code",
   "execution_count": 153,
   "metadata": {},
   "outputs": [
    {
     "data": {
      "text/plain": [
       "6"
      ]
     },
     "execution_count": 153,
     "metadata": {},
     "output_type": "execute_result"
    }
   ],
   "source": [
    "pred.argmax()"
   ]
  },
  {
   "cell_type": "code",
   "execution_count": null,
   "metadata": {},
   "outputs": [],
   "source": []
  }
 ],
 "metadata": {
  "colab": {
   "provenance": []
  },
  "kernelspec": {
   "display_name": "Python 3 (ipykernel)",
   "language": "python",
   "name": "python3"
  },
  "language_info": {
   "codemirror_mode": {
    "name": "ipython",
    "version": 3
   },
   "file_extension": ".py",
   "mimetype": "text/x-python",
   "name": "python",
   "nbconvert_exporter": "python",
   "pygments_lexer": "ipython3",
   "version": "3.10.9"
  }
 },
 "nbformat": 4,
 "nbformat_minor": 1
}
