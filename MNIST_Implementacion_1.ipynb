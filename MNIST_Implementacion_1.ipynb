{
  "nbformat": 4,
  "nbformat_minor": 0,
  "metadata": {
    "colab": {
      "provenance": []
    },
    "kernelspec": {
      "name": "python3",
      "display_name": "Python 3"
    },
    "language_info": {
      "name": "python"
    }
  },
  "cells": [
    {
      "cell_type": "markdown",
      "source": [
        "# Introducción"
      ],
      "metadata": {
        "id": "AhOCfIV9c0fA"
      }
    },
    {
      "cell_type": "markdown",
      "source": [
        "En esta libreta usaremos la librería de Keras para construír modelos para problemas de clasificación. Para este proyecto, usaremos el conjunto de datos MNIST, el cual es un dataset bastante usado y contiene varias imágenes con números escritos a mano.\n",
        "\n",
        "El **MNIST Dataset**, siglas de Modified National Institute of Standards and Technology, es un conjunto de datos grande con dígitos escritos a mano usado comúnmente para entrenar sistemas de entrenamiento de procesamiento de imágenes. Este conjunto de datos es ampliamente usado para el entrenamiento y testeo en el campo de machine learning y deep learning.\n",
        "\n",
        "El MNIST Dataset contiene 60,000 imagenes de entrenamiento y 10,000 imágenes de dígitos escritos a mano por estudiantes de preparatoria y empleados del United States Census Bureau.\n"
      ],
      "metadata": {
        "id": "YGQCJqpdc5yB"
      }
    },
    {
      "cell_type": "markdown",
      "source": [
        "# Modelo de Clasificación FCN"
      ],
      "metadata": {
        "id": "VfHewJtGePu6"
      }
    },
    {
      "cell_type": "markdown",
      "source": [
        "## Importando librería Keras y sus paquetes"
      ],
      "metadata": {
        "id": "I_KHMCP9eYn9"
      }
    },
    {
      "cell_type": "markdown",
      "source": [
        "Empecemos importando Keras y algunos de sus módulos."
      ],
      "metadata": {
        "id": "goTZ-9kGefsV"
      }
    },
    {
      "cell_type": "code",
      "execution_count": 1,
      "metadata": {
        "id": "x6p1Ku_Jczgx"
      },
      "outputs": [],
      "source": [
        "import keras\n",
        "\n",
        "from keras.models import Sequential\n",
        "from keras.layers import Dense\n",
        "from keras.utils import to_categorical"
      ]
    },
    {
      "cell_type": "markdown",
      "source": [
        "Como estamos tratando con imágenes, importamos también Matplotlib con el fin de poder verlas."
      ],
      "metadata": {
        "id": "08KNqdnfez9T"
      }
    },
    {
      "cell_type": "code",
      "source": [
        "import matplotlib.pyplot as plt"
      ],
      "metadata": {
        "id": "NVBM_saEfDev"
      },
      "execution_count": 2,
      "outputs": []
    },
    {
      "cell_type": "markdown",
      "source": [
        "El conjunto de datos del MNIST, al ser ampliamente usado, como se vio anteriormente, forma parte del API de la librería de Keras. \n",
        "\n",
        "A continuación, importaremos, el MNIST dataset de la librería de Keras. Convenientemente, el dataset viene dividido en un conjunto de datos de entrenamiento y de pruebas."
      ],
      "metadata": {
        "id": "1Lzh2KOefBT5"
      }
    },
    {
      "cell_type": "code",
      "source": [
        "# importar el dataset\n",
        "from keras.datasets import mnist\n",
        "\n",
        "# leer el dataset\n",
        "(X_train, y_train), (X_test, y_test) = mnist.load_data()"
      ],
      "metadata": {
        "id": "e7VdrZyDfmEX"
      },
      "execution_count": 3,
      "outputs": []
    },
    {
      "cell_type": "markdown",
      "source": [
        "El valor de `X` son las imágenes como tal, mientras que las `y` son las etiquetas asociadas a cada imagen."
      ],
      "metadata": {
        "id": "1tC0S7yQg-E5"
      }
    },
    {
      "cell_type": "markdown",
      "source": [
        "Podemos ver el número de imágenes para cada conjunto. De acuerdo a la documentación, deberíamos de tener 60,000 imágenes en `X_train` y 10,000 imágenes en `X_test`"
      ],
      "metadata": {
        "id": "Hx8AAD5Wf8gG"
      }
    },
    {
      "cell_type": "code",
      "source": [
        "print(f'{X_train.shape=}')\n",
        "print(f'{X_test.shape=}')"
      ],
      "metadata": {
        "colab": {
          "base_uri": "https://localhost:8080/"
        },
        "id": "PsmhFsOugO1c",
        "outputId": "952016b0-38ad-4978-bf0d-9d932ef16397"
      },
      "execution_count": 4,
      "outputs": [
        {
          "output_type": "stream",
          "name": "stdout",
          "text": [
            "X_train.shape=(60000, 28, 28)\n",
            "X_test.shape=(10000, 28, 28)\n"
          ]
        }
      ]
    },
    {
      "cell_type": "markdown",
      "source": [
        "Como podemos apreciar, el primer número en la tupla es el número de imágenes, mientras que los otros dos números son el tamaño de la imagen en el dataset. Por lo tanto, cada imagen es de 28 x 28 pixeles.\n",
        "\n",
        "Podemos visualizarlo usando Matplotlib:"
      ],
      "metadata": {
        "id": "dMrKvk-Wg18J"
      }
    },
    {
      "cell_type": "code",
      "source": [
        "plt.imshow(X_train[-1], cmap='gray')"
      ],
      "metadata": {
        "colab": {
          "base_uri": "https://localhost:8080/",
          "height": 447
        },
        "id": "hZf6dk_ohqV_",
        "outputId": "93d2e040-e09d-4e9c-948e-5be86432919d"
      },
      "execution_count": 5,
      "outputs": [
        {
          "output_type": "execute_result",
          "data": {
            "text/plain": [
              "<matplotlib.image.AxesImage at 0x7f66916b32e0>"
            ]
          },
          "metadata": {},
          "execution_count": 5
        },
        {
          "output_type": "display_data",
          "data": {
            "text/plain": [
              "<Figure size 640x480 with 1 Axes>"
            ],
            "image/png": "[encoded data removed]"
          },
          "metadata": {}
        }
      ]
    },
    {
      "cell_type": "markdown",
      "source": [
        "Si intentamos \"ver\" la imagen imprimiendo sus valores, el resultado será un `numpy.ndarray` con valores que van de **0** (totalmente negro) a **255** (totalmente blanco)"
      ],
      "metadata": {
        "id": "InOiFWH6iGy-"
      }
    },
    {
      "cell_type": "code",
      "source": [
        "X_train[-1]"
      ],
      "metadata": {
        "colab": {
          "base_uri": "https://localhost:8080/"
        },
        "id": "A70nPa0nh0cJ",
        "outputId": "aaa5bb83-9c47-45b9-ee06-bbf6f1fc3639"
      },
      "execution_count": 6,
      "outputs": [
        {
          "output_type": "execute_result",
          "data": {
            "text/plain": [
              "array([[  0,   0,   0,   0,   0,   0,   0,   0,   0,   0,   0,   0,   0,\n",
              "          0,   0,   0,   0,   0,   0,   0,   0,   0,   0,   0,   0,   0,\n",
              "          0,   0],\n",
              "       [  0,   0,   0,   0,   0,   0,   0,   0,   0,   0,   0,   0,   0,\n",
              "          0,   0,   0,   0,   0,   0,   0,   0,   0,   0,   0,   0,   0,\n",
              "          0,   0],\n",
              "       [  0,   0,   0,   0,   0,   0,   0,   0,   0,   0,   0,   0,   0,\n",
              "          0,   0,   0,   0,   0,   0,   0,   0,   0,   0,   0,   0,   0,\n",
              "          0,   0],\n",
              "       [  0,   0,   0,   0,   0,   0,   0,   0,   0,   0,   0,   0,   0,\n",
              "          0,   0,   0,   0,   0,   0,   0,   0,   0,   0,   0,   0,   0,\n",
              "          0,   0],\n",
              "       [  0,   0,   0,   0,   0,   0,   0,   0,   0,   0,   0,   0,   0,\n",
              "          0,   0,   0,   0,   0,   0,   0,   0,   0,   0,   0,   0,   0,\n",
              "          0,   0],\n",
              "       [  0,   0,   0,   0,   0,   0,   0,   0,   0,   0,   0,   0,   0,\n",
              "          0,   0,   0,   0,   0,   0,   0,   0,   0,   0,   0,   0,   0,\n",
              "          0,   0],\n",
              "       [  0,   0,   0,   0,   0,   0,   0,   0,   0,   0,   0,   0,   0,\n",
              "          0,   0,   0,  38,  48,  48,  22,   0,   0,   0,   0,   0,   0,\n",
              "          0,   0],\n",
              "       [  0,   0,   0,   0,   0,   0,   0,   0,   0,   0,   0,   0,   0,\n",
              "         62,  97, 198, 243, 254, 254, 212,  27,   0,   0,   0,   0,   0,\n",
              "          0,   0],\n",
              "       [  0,   0,   0,   0,   0,   0,   0,   0,   0,   0,   0,   0,  67,\n",
              "        172, 254, 254, 225, 218, 218, 237, 248,  40,   0,  21, 164, 187,\n",
              "          0,   0],\n",
              "       [  0,   0,   0,   0,   0,   0,   0,   0,   0,   0,   0,  89, 219,\n",
              "        254,  97,  67,  14,   0,   0,  92, 231, 122,  23, 203, 236,  59,\n",
              "          0,   0],\n",
              "       [  0,   0,   0,   0,   0,   0,   0,   0,   0,   0,  25, 217, 242,\n",
              "         92,   4,   0,   0,   0,   0,   4, 147, 253, 240, 232,  92,   0,\n",
              "          0,   0],\n",
              "       [  0,   0,   0,   0,   0,   0,   0,   0,   0,   0, 101, 255,  92,\n",
              "          0,   0,   0,   0,   0,   0, 105, 254, 254, 177,  11,   0,   0,\n",
              "          0,   0],\n",
              "       [  0,   0,   0,   0,   0,   0,   0,   0,   0,   0, 167, 244,  41,\n",
              "          0,   0,   0,   7,  76, 199, 238, 239,  94,  10,   0,   0,   0,\n",
              "          0,   0],\n",
              "       [  0,   0,   0,   0,   0,   0,   0,   0,   0,   0, 192, 121,   0,\n",
              "          0,   2,  63, 180, 254, 233, 126,   0,   0,   0,   0,   0,   0,\n",
              "          0,   0],\n",
              "       [  0,   0,   0,   0,   0,   0,   0,   0,   0,   0, 190, 196,  14,\n",
              "          2,  97, 254, 252, 146,  52,   0,   0,   0,   0,   0,   0,   0,\n",
              "          0,   0],\n",
              "       [  0,   0,   0,   0,   0,   0,   0,   0,   0,   0, 130, 225,  71,\n",
              "        180, 232, 181,  60,   0,   0,   0,   0,   0,   0,   0,   0,   0,\n",
              "          0,   0],\n",
              "       [  0,   0,   0,   0,   0,   0,   0,   0,   0,   0, 130, 254, 254,\n",
              "        230,  46,   0,   0,   0,   0,   0,   0,   0,   0,   0,   0,   0,\n",
              "          0,   0],\n",
              "       [  0,   0,   0,   0,   0,   0,   0,   0,   6,  77, 244, 254, 162,\n",
              "          4,   0,   0,   0,   0,   0,   0,   0,   0,   0,   0,   0,   0,\n",
              "          0,   0],\n",
              "       [  0,   0,   0,   0,   0,   0,   0,   0, 110, 254, 218, 254, 116,\n",
              "          0,   0,   0,   0,   0,   0,   0,   0,   0,   0,   0,   0,   0,\n",
              "          0,   0],\n",
              "       [  0,   0,   0,   0,   0,   0,   0, 131, 254, 154,  28, 213,  86,\n",
              "          0,   0,   0,   0,   0,   0,   0,   0,   0,   0,   0,   0,   0,\n",
              "          0,   0],\n",
              "       [  0,   0,   0,   0,   0,   0,  66, 209, 153,  19,  19, 233,  60,\n",
              "          0,   0,   0,   0,   0,   0,   0,   0,   0,   0,   0,   0,   0,\n",
              "          0,   0],\n",
              "       [  0,   0,   0,   0,   0,   0, 142, 254, 165,   0,  14, 216, 167,\n",
              "          0,   0,   0,   0,   0,   0,   0,   0,   0,   0,   0,   0,   0,\n",
              "          0,   0],\n",
              "       [  0,   0,   0,   0,   0,   0,  90, 254, 175,   0,  18, 229,  92,\n",
              "          0,   0,   0,   0,   0,   0,   0,   0,   0,   0,   0,   0,   0,\n",
              "          0,   0],\n",
              "       [  0,   0,   0,   0,   0,   0,  26, 229, 249, 176, 222, 244,  44,\n",
              "          0,   0,   0,   0,   0,   0,   0,   0,   0,   0,   0,   0,   0,\n",
              "          0,   0],\n",
              "       [  0,   0,   0,   0,   0,   0,   0,  73, 193, 197, 134,   0,   0,\n",
              "          0,   0,   0,   0,   0,   0,   0,   0,   0,   0,   0,   0,   0,\n",
              "          0,   0],\n",
              "       [  0,   0,   0,   0,   0,   0,   0,   0,   0,   0,   0,   0,   0,\n",
              "          0,   0,   0,   0,   0,   0,   0,   0,   0,   0,   0,   0,   0,\n",
              "          0,   0],\n",
              "       [  0,   0,   0,   0,   0,   0,   0,   0,   0,   0,   0,   0,   0,\n",
              "          0,   0,   0,   0,   0,   0,   0,   0,   0,   0,   0,   0,   0,\n",
              "          0,   0],\n",
              "       [  0,   0,   0,   0,   0,   0,   0,   0,   0,   0,   0,   0,   0,\n",
              "          0,   0,   0,   0,   0,   0,   0,   0,   0,   0,   0,   0,   0,\n",
              "          0,   0]], dtype=uint8)"
            ]
          },
          "metadata": {},
          "execution_count": 6
        }
      ]
    },
    {
      "cell_type": "markdown",
      "source": [
        "Como primero vamos a trabajar con una red neuronal FCN (**Fully-Connected Network**), siendo una red neuronal \"convencional\", no podemos meter la imagen como entrada asi tal cual. Por lo tanto, tenemos que hacer un preprocesamiento de la imagen para *aplanar* las imágenes, convirtiéndolas en vectores uni-dimensionales de tamaño `1 x (28 x 28) = 1 x 784.`"
      ],
      "metadata": {
        "id": "HbdFRGQhiuhG"
      }
    },
    {
      "cell_type": "code",
      "source": [
        "# aplanando las imágenes en vectores uni-dimensionales\n",
        "\n",
        "num_pixeles = X_train.shape[1] * X_train.shape[2] # 28 x 28 <- encontrando el tamaño del vector 1D\n",
        "\n",
        "X_train = X_train.reshape(X_train.shape[0], num_pixeles) # aplanando conjunto de entrenamiento\n",
        "X_test = X_test.reshape(X_test.shape[0], num_pixeles) # aplanando conjunto de pruebas"
      ],
      "metadata": {
        "id": "zShZt90TkFKi"
      },
      "execution_count": 7,
      "outputs": []
    },
    {
      "cell_type": "markdown",
      "source": [
        "Dado que los valores de los píxeles pueden oscilar entre 0 y 255, normalicemos los vectores para que estén entre 0 y 1."
      ],
      "metadata": {
        "id": "w8VOiPFUlqHm"
      }
    },
    {
      "cell_type": "code",
      "source": [
        "# normalicemos inputs de 0-255 a 0-1\n",
        "X_train = X_train / 255\n",
        "X_test = X_test / 255"
      ],
      "metadata": {
        "id": "L0-ClHDRlOvp"
      },
      "execution_count": 8,
      "outputs": []
    },
    {
      "cell_type": "markdown",
      "source": [
        "Antes de construir el modelo de red neurnal, recordemos que debemos de separar nuestra target variable en categorias. Por esta razón, usamos la función to_categorical importada de las utilidades de Keras."
      ],
      "metadata": {
        "id": "koV78BYXlquI"
      }
    },
    {
      "cell_type": "code",
      "source": [
        "# hacemos un one-hot encoding para los outputs\n",
        "y_train = to_categorical(y_train)\n",
        "y_test = to_categorical(y_test)"
      ],
      "metadata": {
        "id": "fwnuiPzdlrAA"
      },
      "execution_count": 9,
      "outputs": []
    },
    {
      "cell_type": "code",
      "source": [
        "y_train[-1]"
      ],
      "metadata": {
        "colab": {
          "base_uri": "https://localhost:8080/"
        },
        "id": "X-VNnEeko-Xm",
        "outputId": "e8c2c3c6-fd7d-44fe-a647-e272febcc9f1"
      },
      "execution_count": 10,
      "outputs": [
        {
          "output_type": "execute_result",
          "data": {
            "text/plain": [
              "array([0., 0., 0., 0., 0., 0., 0., 0., 1., 0.], dtype=float32)"
            ]
          },
          "metadata": {},
          "execution_count": 10
        }
      ]
    },
    {
      "cell_type": "code",
      "source": [
        "num_clases = y_test.shape[1]\n",
        "print(num_clases)"
      ],
      "metadata": {
        "colab": {
          "base_uri": "https://localhost:8080/"
        },
        "id": "7MwJB62fphtJ",
        "outputId": "f52538d8-3642-486b-be2f-d64efc49dbb6"
      },
      "execution_count": 11,
      "outputs": [
        {
          "output_type": "stream",
          "name": "stdout",
          "text": [
            "10\n"
          ]
        }
      ]
    },
    {
      "cell_type": "markdown",
      "source": [
        "## Construyendo la Red Neuronal"
      ],
      "metadata": {
        "id": "Xk_XRE5jlZof"
      }
    },
    {
      "cell_type": "code",
      "source": [
        "# Definiendo un modelo de clasificacion\n",
        "def classification_model():\n",
        "    # creando el modelo\n",
        "    model = Sequential()\n",
        "    model.add(Dense(num_pixeles, activation='relu', input_shape=(num_pixeles,)))\n",
        "    model.add(Dense(100, activation='relu'))\n",
        "    model.add(Dense(num_clases, activation='softmax'))\n",
        "    \n",
        "    \n",
        "    # compilando el modelo\n",
        "    model.compile(optimizer='adam', loss='categorical_crossentropy', metrics=['accuracy'])\n",
        "    return model"
      ],
      "metadata": {
        "id": "liDk-hYSldyt"
      },
      "execution_count": 12,
      "outputs": []
    },
    {
      "cell_type": "markdown",
      "source": [
        "## Entrenamiento y Pruebas de la Red Neuronal"
      ],
      "metadata": {
        "id": "pWr4i9b5oFiG"
      }
    },
    {
      "cell_type": "code",
      "source": [
        "# build the model\n",
        "model = classification_model()\n",
        "\n",
        "# fit the model\n",
        "model.fit(X_train, y_train, validation_data=(X_test, y_test), epochs=10, verbose=1)\n",
        "\n",
        "# evaluate the model\n",
        "scores = model.evaluate(X_test, y_test, verbose=0)"
      ],
      "metadata": {
        "colab": {
          "base_uri": "https://localhost:8080/"
        },
        "id": "ZhCrGi76oF0-",
        "outputId": "7e2e21e1-d060-4fcb-d966-50bbd5770b84"
      },
      "execution_count": 13,
      "outputs": [
        {
          "output_type": "stream",
          "name": "stdout",
          "text": [
            "Epoch 1/10\n",
            "1875/1875 [==============================] - 41s 21ms/step - loss: 0.1872 - accuracy: 0.9426 - val_loss: 0.0937 - val_accuracy: 0.9705\n",
            "Epoch 2/10\n",
            "1875/1875 [==============================] - 28s 15ms/step - loss: 0.0788 - accuracy: 0.9758 - val_loss: 0.0780 - val_accuracy: 0.9755\n",
            "Epoch 3/10\n",
            "1875/1875 [==============================] - 26s 14ms/step - loss: 0.0525 - accuracy: 0.9836 - val_loss: 0.0813 - val_accuracy: 0.9755\n",
            "Epoch 4/10\n",
            "1875/1875 [==============================] - 26s 14ms/step - loss: 0.0399 - accuracy: 0.9872 - val_loss: 0.0797 - val_accuracy: 0.9781\n",
            "Epoch 5/10\n",
            "1875/1875 [==============================] - 46s 24ms/step - loss: 0.0328 - accuracy: 0.9893 - val_loss: 0.0766 - val_accuracy: 0.9786\n",
            "Epoch 6/10\n",
            "1875/1875 [==============================] - 33s 18ms/step - loss: 0.0254 - accuracy: 0.9914 - val_loss: 0.0754 - val_accuracy: 0.9801\n",
            "Epoch 7/10\n",
            "1875/1875 [==============================] - 27s 15ms/step - loss: 0.0224 - accuracy: 0.9924 - val_loss: 0.0863 - val_accuracy: 0.9795\n",
            "Epoch 8/10\n",
            "1875/1875 [==============================] - 27s 15ms/step - loss: 0.0171 - accuracy: 0.9942 - val_loss: 0.0911 - val_accuracy: 0.9796\n",
            "Epoch 9/10\n",
            "1875/1875 [==============================] - 27s 14ms/step - loss: 0.0189 - accuracy: 0.9939 - val_loss: 0.0798 - val_accuracy: 0.9821\n",
            "Epoch 10/10\n",
            "1875/1875 [==============================] - 27s 14ms/step - loss: 0.0152 - accuracy: 0.9949 - val_loss: 0.0911 - val_accuracy: 0.9809\n"
          ]
        }
      ]
    },
    {
      "cell_type": "markdown",
      "source": [
        "Ahora imprimemos el accuracy (precisión) y el error."
      ],
      "metadata": {
        "id": "Wj-GM9yjp4w2"
      }
    },
    {
      "cell_type": "code",
      "source": [
        "print('Accuracy: {}% \\n Error: {}'.format(scores[1], 1 - scores[1]))        "
      ],
      "metadata": {
        "colab": {
          "base_uri": "https://localhost:8080/"
        },
        "id": "zKASKOl2qHwZ",
        "outputId": "4147f983-c8c5-4ddd-9c87-e28f9a8f7f2e"
      },
      "execution_count": 14,
      "outputs": [
        {
          "output_type": "stream",
          "name": "stdout",
          "text": [
            "Accuracy: 0.98089998960495% \n",
            " Error: 0.01910001039505005\n"
          ]
        }
      ]
    }
  ]
}