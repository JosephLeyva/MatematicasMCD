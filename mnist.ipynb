{
 "cells": [
  {
   "cell_type": "markdown",
   "id": "8c5c80ee",
   "metadata": {
    "slideshow": {
     "slide_type": "slide"
    }
   },
   "source": [
    "# Proyecto: MNIST Database\n",
    "\n",
    "Problema: Categorización de números (y letras) escritas a mano.\n",
    "\n",
    "Equipo 8:\n",
    "\n",
    "* Miguel Guerrero\n",
    "* Jose Leyva\n",
    "* Jesus Gaytan\n",
    "* Edgardo Martinez\n"
   ]
  },
  {
   "cell_type": "markdown",
   "id": "9e728894",
   "metadata": {
    "slideshow": {
     "slide_type": "slide"
    }
   },
   "source": [
    "# Descripción del Dataset MNIST\n",
    "\n",
    "## ¿Qué es?\n",
    "\n",
    "El dataset MNIST (Modified National Institute of Standards and Technology) o MNIST Database, en una base de datos que contiene una recopilación de números (dígitos) escritos a mano. Este conjunto fue creado a partir de un *re-muestreo* de un conjunto previo conocido como NIST.\n",
    "\n",
    "Esta base de datos es comúnmente utilizada para el entrenamiento de varios sistemas de procesamiento de imágenes, como en nuestro caso se utilizará para una red neuronal."
   ]
  },
  {
   "cell_type": "markdown",
   "id": "a5c59a21",
   "metadata": {
    "slideshow": {
     "slide_type": "subslide"
    }
   },
   "source": [
    "<figure>\n",
    "    <center><img src=\"./img/mnist_sample.png\">\n",
    "    </center>\n",
    "    <figcaption align = \"center\">Ejemplos de numeros en el dataset MNIST</figcaption>\n",
    "</figure>"
   ]
  },
  {
   "cell_type": "markdown",
   "id": "8181db16",
   "metadata": {
    "slideshow": {
     "slide_type": "subslide"
    }
   },
   "source": [
    "## Características\n",
    "\n",
    "Algunas características de este dataset son:\n",
    "\n",
    "* Cuenta con 60,000 imágenes de entrenamiento y 10,000 imágenes de prueba. \n",
    "    * Cada imágen corresponde a un número en el rango [0,9]\n",
    "    * Las imágenes tienen un tamaño de 28x28x1\n",
    "\n",
    "* Este dataset se considera como \"resuelto\", ya que se ha logrado alcanzar tasas de error considerablemente pequeñas para este conjunto.\n",
    "* Es un conjunto \"limpio\", ya que los datos en este conjunto están ya limpias y curadas especialmente para entrenamiento.\n",
    "    * Si bien esto facilita el entrenamiento, no necesariamente representa una muestra representativa de la vida real.\n",
    "    * Las imagenes se encuentran centradas y normalizadas.\n",
    "\n",
    "## Repositorio de datos\n",
    "\n",
    "Al ser un dataset tan conocido y estudiado, existen diversas fuentes que ofrecen acceso a éste, en nuestro caso, usaremos la version incluida en el librería de aprendizaje automático TensorFlow.\n"
   ]
  },
  {
   "cell_type": "markdown",
   "id": "69d7231e",
   "metadata": {
    "slideshow": {
     "slide_type": "slide"
    }
   },
   "source": [
    "## Historia del MNIST Database\n",
    "\n",
    "*National Institute of Standards and Technology* (**NIST**) es un instituto en los Estados Unidos, cuya misión es promover la innovación y la competencia industrial en el país. Como parte de esta misión, los científicos e ingenieros del NIST continuamente refinan la ciencia de la medición (metrología) y utilizan grandes bases de datos para su continua experimentación.\n",
    "\n",
    "<figure>\n",
    "    <center><img src=\"./img/sd19.jpeg\"\n",
    "          width=\"260\" height=\"400\">\n",
    "    </center>\n",
    "    <figcaption align = \"center\">Documento utilizado para la recolección de los Datos en 1989</figcaption>\n",
    "</figure>"
   ]
  },
  {
   "cell_type": "markdown",
   "id": "d433ebc6",
   "metadata": {
    "slideshow": {
     "slide_type": "subslide"
    }
   },
   "source": [
    "El conjunto de imágenes en el MNIST database fue creado en 1994 como una combinación de dos bases de datos en NIST: *Special Database 1* and *Special Database 3*. Estas bases de datos consistían en dígitos escritos por estudiantes de preparatoria y empleados de la Oficina del Censo de los Estados Unidos, respectivamente."
   ]
  },
  {
   "cell_type": "markdown",
   "id": "091f8fe1",
   "metadata": {
    "slideshow": {
     "slide_type": "slide"
    }
   },
   "source": [
    "\n",
    "---\n",
    "# Redes Neuronales para solucionar el problema\n",
    "\n",
    "## El \"Problema\" de las Redes Neuronales\n",
    "\n",
    "A pesar de que las redes neuronales han ganado una enorme popularidad en los últimos 10 años (especialmente tras el uso de las GPUs y TPUs para el entrenamiento de datos), para la mayoria de \n",
    "científicos de datos y estadísticos la mayoría de las familias de modelos tienen el problema de que son **difíciles de interpretar**. Es por esto que muchas personas tratan a las redes neuronales y su estructura como si fuese una *caja negra* porque es dificil pensar en cómo se modela y transmite la información.\n",
    "\n",
    "Frecuentemente, las redes neuronales tienen cientos de miles de parámetros, con millones de pesos que son individualmente tuneados durante el entrenamiento par minimizar el error que puede existir."
   ]
  },
  {
   "cell_type": "markdown",
   "id": "82501c5b",
   "metadata": {
    "slideshow": {
     "slide_type": "subslide"
    }
   },
   "source": [
    "## Arquitectura de las Redes Neuronales\n",
    "\n",
    "Con el MNIST se pueden aplicar varios diseños al ser un conjunto de datos relativamente sencillo de estudiar. Incluso se han desarrollo modelos que no necesariamente tienen que ver con el uso de redes neuronales. Sin embargo, podemos usar los siguientes modelos:"
   ]
  },
  {
   "cell_type": "markdown",
   "id": "e543454f",
   "metadata": {
    "slideshow": {
     "slide_type": "subslide"
    }
   },
   "source": [
    "### Fully-Connected Neural Networks (FCN)\n",
    "\n",
    "Una red neuronal totalmente conectada consta de una serie de capas totalmente conectadas que conectan cada neurona de una capa con cada neurona de la otra capa.\n",
    "\n",
    "![FCN](./img/fcn.png)"
   ]
  },
  {
   "cell_type": "markdown",
   "id": "8341326a",
   "metadata": {
    "slideshow": {
     "slide_type": "subslide"
    }
   },
   "source": [
    "### Convolutional Meural Networs (CNN)\n",
    "\n",
    "Las arquitecturas CNN asumen explícitamente que las entradas son imágenes, lo que permite codificar ciertas propiedades en la arquitectura del modelo.\n",
    "Una CNN simple es una secuencia de capas, y cada capa de una CNN transforma un volumen de activaciones en otro a través de una función diferenciable. Se utilizan tres tipos principales de capas para construir la arquitectura CNN: capa convolucional, capa de pooling y capa totalmente conectada (FCN).\n",
    "\n",
    "![CNN](./img/cnn.png)"
   ]
  }
 ],
 "metadata": {
  "celltoolbar": "Slideshow",
  "kernelspec": {
   "display_name": "Python 3 (ipykernel)",
   "language": "python",
   "name": "python3"
  },
  "language_info": {
   "codemirror_mode": {
    "name": "ipython",
    "version": 3
   },
   "file_extension": ".py",
   "mimetype": "text/x-python",
   "name": "python",
   "nbconvert_exporter": "python",
   "pygments_lexer": "ipython3",
   "version": "3.9.13"
  }
 },
 "nbformat": 4,
 "nbformat_minor": 5
}
